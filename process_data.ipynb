{
 "cells": [
  {
   "cell_type": "code",
   "execution_count": 42,
   "id": "49b13f82-32ec-416c-acff-a077e7d54be6",
   "metadata": {},
   "outputs": [],
   "source": [
    "import scipy.io as sio\n",
    "import numpy as np"
   ]
  },
  {
   "cell_type": "code",
   "execution_count": 43,
   "id": "509fc64c-6e83-4c9b-b1aa-9b1e7e6e28f9",
   "metadata": {},
   "outputs": [],
   "source": [
    "def mat_to_npz(dataset, adj1_name, adj2_name, gnd_name, x1_name, x2_name):\n",
    "    mat = sio.loadmat(f'datasets/mat/{dataset}.mat')\n",
    "    adj1, adj2 = mat[adj1_name], mat[adj2_name]\n",
    "    x1, x2 = mat[x1_name], mat[x2_name]\n",
    "    if type(x1) != np.ndarray:\n",
    "        x1 = x1.toarray()\n",
    "    if type(x2) != np.ndarray:\n",
    "        x2 = x2.toarray()\n",
    "\n",
    "    edge_index1 = np.array(np.where(adj1.toarray() == 1))\n",
    "    edge_index2 = np.array(np.where(adj2.toarray() == 1))\n",
    "\n",
    "    random.seed(1234)\n",
    "    gnd = mat[gnd_name]\n",
    "    train_indices = np.random.choice(gnd.shape[0], int(gnd.shape[0] * 0.2), replace=False)\n",
    "    test_indices = np.setdiff1d(np.arange(gnd.shape[0]), train_indices)\n",
    "    \n",
    "    train_indices.sort()\n",
    "    test_indices.sort()\n",
    "    pos_pairs, test_pairs = gnd[train_indices] - 1, gnd[test_indices] - 1\n",
    "\n",
    "    np.savez(f'datasets/{dataset}_0.2.npz', edge_index1=edge_index1, edge_index2=edge_index2, x1=x1, x2=x2, pos_pairs=pos_pairs, test_pairs=test_pairs)"
   ]
  },
  {
   "cell_type": "code",
   "execution_count": 44,
   "id": "8cb5530a-ab1f-4e1c-800e-072b4510f09a",
   "metadata": {},
   "outputs": [],
   "source": [
    "mat_to_npz('Douban', 'online', 'offline', 'ground_truth', 'online_node_label', 'offline_node_label')"
   ]
  },
  {
   "cell_type": "code",
   "execution_count": 45,
   "id": "74114485-1ea3-4f2f-a78f-02a4c7ec653d",
   "metadata": {},
   "outputs": [],
   "source": [
    "mat_to_npz('flickr-lastfm', 'flickr', 'lastfm', 'gndtruth', 'flickr_node_label', 'lastfm_node_label')"
   ]
  }
 ],
 "metadata": {
  "kernelspec": {
   "display_name": "Python 3 (ipykernel)",
   "language": "python",
   "name": "python3"
  },
  "language_info": {
   "codemirror_mode": {
    "name": "ipython",
    "version": 3
   },
   "file_extension": ".py",
   "mimetype": "text/x-python",
   "name": "python",
   "nbconvert_exporter": "python",
   "pygments_lexer": "ipython3",
   "version": "3.9.6"
  }
 },
 "nbformat": 4,
 "nbformat_minor": 5
}
